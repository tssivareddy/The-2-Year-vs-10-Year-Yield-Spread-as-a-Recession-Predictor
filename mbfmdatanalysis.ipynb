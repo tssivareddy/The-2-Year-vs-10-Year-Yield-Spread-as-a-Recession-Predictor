{
  "nbformat": 4,
  "nbformat_minor": 0,
  "metadata": {
    "colab": {
      "provenance": []
    },
    "kernelspec": {
      "name": "python3",
      "display_name": "Python 3"
    },
    "language_info": {
      "name": "python"
    }
  },
  "cells": [
    {
      "cell_type": "code",
      "execution_count": 2,
      "metadata": {
        "colab": {
          "base_uri": "https://localhost:8080/"
        },
        "id": "rNPrGencdcTD",
        "outputId": "e14da7b1-48c4-499c-acbc-5a846aaddfa9"
      },
      "outputs": [
        {
          "output_type": "stream",
          "name": "stdout",
          "text": [
            "Mounted at /content/drive\n"
          ]
        }
      ],
      "source": [
        "import pandas as pd\n",
        "from google.colab import drive\n",
        "drive.mount('/content/drive')\n"
      ]
    },
    {
      "cell_type": "code",
      "source": [
        "from sklearn.model_selection import train_test_split\n",
        "from sklearn.linear_model import LogisticRegression\n",
        "from sklearn.ensemble import RandomForestClassifier\n",
        "from sklearn.metrics import accuracy_score\n",
        "import tensorflow as tf\n",
        "from tensorflow.keras.models import Sequential\n",
        "from tensorflow.keras.layers import Dense\n",
        "from sklearn.preprocessing import LabelEncoder\n",
        "from sklearn.metrics import classification_report\n",
        "import xgboost as xgb\n",
        "import numpy as np\n"
      ],
      "metadata": {
        "id": "bmj9uoS2fx_P"
      },
      "execution_count": 22,
      "outputs": []
    },
    {
      "cell_type": "code",
      "source": [
        "\n",
        "def datacoll(df_2y, df_10y, df_rec):\n",
        "\n",
        "    df_2y['Date'] = pd.to_datetime(df_2y['Date'])\n",
        "    df_2y.set_index('Date', inplace=True)\n",
        "\n",
        "\n",
        "    df_10y['Date'] = pd.to_datetime(df_10y['Date'])\n",
        "    df_10y.set_index('Date', inplace=True)\n",
        "\n",
        "    df_2y.drop(columns=[' Open', ' High', ' Low'], inplace=True)\n",
        "    df_10y.drop(columns=[' Open', ' High', ' Low'], inplace=True)\n",
        "\n",
        "    df_rec['Date'] = pd.to_datetime(df_rec['Date'])\n",
        "\n",
        "\n",
        "    date_range = pd.date_range(start=df_rec['Date'].min(), end=df_rec['Date'].max())\n",
        "    df_rec = df_rec.set_index('Date').reindex(date_range)\n",
        "\n",
        "    df_rec['val'] = df_rec['val'].ffill()\n",
        "\n",
        "    df_rec = df_rec.reset_index().rename(columns={'index': 'Date'})\n",
        "    df_rec.set_index('Date', inplace=True)\n",
        "\n",
        "    df_2_10 = pd.merge(df_2y, df_10y, left_index=True, right_index=True, how='inner')\n",
        "    df_2_10.columns = df_2_10.columns.str.strip()\n",
        "\n",
        "    df_2_10['recession'] = (df_2_10['Close_y'] - df_2_10['Close_x']) < 0\n",
        "    df_2_10['recession'] = df_2_10['recession'].astype(int)\n",
        "\n",
        "    df_2_10.index = pd.to_datetime(df_2_10.index)\n",
        "    df_2_10.index = df_2_10.index + pd.DateOffset(years=1)\n",
        "    df_2_10.index = df_2_10.index.strftime('%Y-%m-%d')\n",
        "    df_2_10.index = pd.to_datetime(df_2_10.index)\n",
        "\n",
        "    df = pd.merge(df_2_10, df_rec, left_index=True, right_index=True, how='inner')\n",
        "\n",
        "    return df\n"
      ],
      "metadata": {
        "id": "hS420oRzhkqE"
      },
      "execution_count": 25,
      "outputs": []
    },
    {
      "cell_type": "code",
      "source": [
        "def do(bond, df):\n",
        "  correlation = df['recession'].corr(df['val'])\n",
        "\n",
        "  print(bond, 'correlation:' , correlation)\n",
        "\n",
        "  X = df[['val']]\n",
        "  y = df['recession']\n",
        "\n",
        "  X_train, X_test, y_train, y_test = train_test_split(X, y, test_size=0.3, random_state=42)\n",
        "\n",
        "  model = LogisticRegression()\n",
        "  model.fit(X_train, y_train)\n",
        "\n",
        "  y_pred = model.predict(X_test)\n",
        "\n",
        "  accuracy = accuracy_score(y_test, y_pred)\n",
        "  print(f'Logistic Regression Accuracy: {accuracy}')\n",
        "\n",
        "  rf_model = RandomForestClassifier(n_estimators=100, max_depth=10, random_state=42)\n",
        "  rf_model.fit(X_train, y_train)\n",
        "\n",
        "  rf_y_pred = rf_model.predict(X_test)\n",
        "\n",
        "  rf_accuracy = accuracy_score(y_test, rf_y_pred)\n",
        "  print(f'Random Forest Accuracy: {rf_accuracy}')\n",
        "\n",
        "  X = df[['val']].values\n",
        "  y = df['recession'].values\n",
        "\n",
        "  encoder = LabelEncoder()\n",
        "  y = encoder.fit_transform(y)\n",
        "\n",
        "  X_train, X_test, y_train, y_test = train_test_split(X, y, test_size=0.3, random_state=42)\n",
        "\n",
        "  model = Sequential([\n",
        "      Dense(8, input_dim=1, activation='relu'),\n",
        "      Dense(1, activation='sigmoid')\n",
        "  ])\n",
        "\n",
        "  model.compile(optimizer='adam', loss='binary_crossentropy', metrics=['accuracy'])\n",
        "\n",
        "  model.fit(X_train, y_train, epochs=50, batch_size=2, verbose=0)\n",
        "\n",
        "  loss, accuracy = model.evaluate(X_test, y_test)\n",
        "  print(f'Neural Network Accuracy: {accuracy}')\n",
        "\n",
        "\n",
        "\n",
        "\n"
      ],
      "metadata": {
        "id": "Vn6J4deDd3nV"
      },
      "execution_count": 27,
      "outputs": []
    },
    {
      "cell_type": "markdown",
      "source": [
        "# **India**"
      ],
      "metadata": {
        "id": "EAeNPzO0jvyr"
      }
    },
    {
      "cell_type": "code",
      "source": [
        "df_2 = pd.read_csv(r'/content/drive/My Drive/ind2year.csv')\n",
        "df_10 = pd.read_csv(r'/content/drive/My Drive/ind10year.csv')\n",
        "df_rec = pd.read_csv(r'/content/drive/My Drive/indrecession.csv')\n",
        "x=datacoll(df_2, df_10, df_rec)\n",
        "x.drop"
      ],
      "metadata": {
        "colab": {
          "base_uri": "https://localhost:8080/",
          "height": 310
        },
        "id": "fk05oCwDi_qn",
        "outputId": "bd887abf-aeeb-43ed-ddab-4fc6b3af2ab3"
      },
      "execution_count": 28,
      "outputs": [
        {
          "output_type": "stream",
          "name": "stderr",
          "text": [
            "<ipython-input-25-39a49dfb1a4f>:3: UserWarning: Could not infer format, so each element will be parsed individually, falling back to `dateutil`. To ensure parsing is consistent and as-expected, please specify a format.\n",
            "  df_2y['Date'] = pd.to_datetime(df_2y['Date'])\n",
            "<ipython-input-25-39a49dfb1a4f>:7: UserWarning: Could not infer format, so each element will be parsed individually, falling back to `dateutil`. To ensure parsing is consistent and as-expected, please specify a format.\n",
            "  df_10y['Date'] = pd.to_datetime(df_10y['Date'])\n"
          ]
        },
        {
          "output_type": "execute_result",
          "data": {
            "text/plain": [
              "<bound method DataFrame.drop of             Close_x  Close_y  recession  val\n",
              "Date                                        \n",
              "2022-01-08    4.141    5.893          0  0.0\n",
              "2022-01-07    4.197    5.893          0  0.0\n",
              "2022-01-06    4.133    5.898          0  0.0\n",
              "2022-01-05    4.115    5.856          0  0.0\n",
              "2022-01-04    4.118    5.864          0  0.0\n",
              "...             ...      ...        ...  ...\n",
              "2011-01-18    6.242    7.708          0  1.0\n",
              "2011-01-15    6.277    7.736          0  1.0\n",
              "2011-01-14    6.280    7.700          0  1.0\n",
              "2011-01-13    6.328    7.663          0  1.0\n",
              "2011-01-12    6.353    7.800          0  1.0\n",
              "\n",
              "[2813 rows x 4 columns]>"
            ],
            "text/html": [
              "<div style=\"max-width:800px; border: 1px solid var(--colab-border-color);\"><style>\n",
              "      pre.function-repr-contents {\n",
              "        overflow-x: auto;\n",
              "        padding: 8px 12px;\n",
              "        max-height: 500px;\n",
              "      }\n",
              "\n",
              "      pre.function-repr-contents.function-repr-contents-collapsed {\n",
              "        cursor: pointer;\n",
              "        max-height: 100px;\n",
              "      }\n",
              "    </style>\n",
              "    <pre style=\"white-space: initial; background:\n",
              "         var(--colab-secondary-surface-color); padding: 8px 12px;\n",
              "         border-bottom: 1px solid var(--colab-border-color);\"><b>pandas.core.frame.DataFrame.drop</b><br/>def drop(labels: IndexLabel | None=None, *, axis: Axis=0, index: IndexLabel | None=None, columns: IndexLabel | None=None, level: Level | None=None, inplace: bool=False, errors: IgnoreRaise=&#x27;raise&#x27;) -&gt; DataFrame | None</pre><pre class=\"function-repr-contents function-repr-contents-collapsed\" style=\"\"><a class=\"filepath\" style=\"display:none\" href=\"#\">/usr/local/lib/python3.10/dist-packages/pandas/core/frame.py</a>Drop specified labels from rows or columns.\n",
              "\n",
              "Remove rows or columns by specifying label names and corresponding\n",
              "axis, or by directly specifying index or column names. When using a\n",
              "multi-index, labels on different levels can be removed by specifying\n",
              "the level. See the :ref:`user guide &lt;advanced.shown_levels&gt;`\n",
              "for more information about the now unused levels.\n",
              "\n",
              "Parameters\n",
              "----------\n",
              "labels : single label or list-like\n",
              "    Index or column labels to drop. A tuple will be used as a single\n",
              "    label and not treated as a list-like.\n",
              "axis : {0 or &#x27;index&#x27;, 1 or &#x27;columns&#x27;}, default 0\n",
              "    Whether to drop labels from the index (0 or &#x27;index&#x27;) or\n",
              "    columns (1 or &#x27;columns&#x27;).\n",
              "index : single label or list-like\n",
              "    Alternative to specifying axis (``labels, axis=0``\n",
              "    is equivalent to ``index=labels``).\n",
              "columns : single label or list-like\n",
              "    Alternative to specifying axis (``labels, axis=1``\n",
              "    is equivalent to ``columns=labels``).\n",
              "level : int or level name, optional\n",
              "    For MultiIndex, level from which the labels will be removed.\n",
              "inplace : bool, default False\n",
              "    If False, return a copy. Otherwise, do operation\n",
              "    in place and return None.\n",
              "errors : {&#x27;ignore&#x27;, &#x27;raise&#x27;}, default &#x27;raise&#x27;\n",
              "    If &#x27;ignore&#x27;, suppress error and only existing labels are\n",
              "    dropped.\n",
              "\n",
              "Returns\n",
              "-------\n",
              "DataFrame or None\n",
              "    Returns DataFrame or None DataFrame with the specified\n",
              "    index or column labels removed or None if inplace=True.\n",
              "\n",
              "Raises\n",
              "------\n",
              "KeyError\n",
              "    If any of the labels is not found in the selected axis.\n",
              "\n",
              "See Also\n",
              "--------\n",
              "DataFrame.loc : Label-location based indexer for selection by label.\n",
              "DataFrame.dropna : Return DataFrame with labels on given axis omitted\n",
              "    where (all or any) data are missing.\n",
              "DataFrame.drop_duplicates : Return DataFrame with duplicate rows\n",
              "    removed, optionally only considering certain columns.\n",
              "Series.drop : Return Series with specified index labels removed.\n",
              "\n",
              "Examples\n",
              "--------\n",
              "&gt;&gt;&gt; df = pd.DataFrame(np.arange(12).reshape(3, 4),\n",
              "...                   columns=[&#x27;A&#x27;, &#x27;B&#x27;, &#x27;C&#x27;, &#x27;D&#x27;])\n",
              "&gt;&gt;&gt; df\n",
              "   A  B   C   D\n",
              "0  0  1   2   3\n",
              "1  4  5   6   7\n",
              "2  8  9  10  11\n",
              "\n",
              "Drop columns\n",
              "\n",
              "&gt;&gt;&gt; df.drop([&#x27;B&#x27;, &#x27;C&#x27;], axis=1)\n",
              "   A   D\n",
              "0  0   3\n",
              "1  4   7\n",
              "2  8  11\n",
              "\n",
              "&gt;&gt;&gt; df.drop(columns=[&#x27;B&#x27;, &#x27;C&#x27;])\n",
              "   A   D\n",
              "0  0   3\n",
              "1  4   7\n",
              "2  8  11\n",
              "\n",
              "Drop a row by index\n",
              "\n",
              "&gt;&gt;&gt; df.drop([0, 1])\n",
              "   A  B   C   D\n",
              "2  8  9  10  11\n",
              "\n",
              "Drop columns and/or rows of MultiIndex DataFrame\n",
              "\n",
              "&gt;&gt;&gt; midx = pd.MultiIndex(levels=[[&#x27;llama&#x27;, &#x27;cow&#x27;, &#x27;falcon&#x27;],\n",
              "...                              [&#x27;speed&#x27;, &#x27;weight&#x27;, &#x27;length&#x27;]],\n",
              "...                      codes=[[0, 0, 0, 1, 1, 1, 2, 2, 2],\n",
              "...                             [0, 1, 2, 0, 1, 2, 0, 1, 2]])\n",
              "&gt;&gt;&gt; df = pd.DataFrame(index=midx, columns=[&#x27;big&#x27;, &#x27;small&#x27;],\n",
              "...                   data=[[45, 30], [200, 100], [1.5, 1], [30, 20],\n",
              "...                         [250, 150], [1.5, 0.8], [320, 250],\n",
              "...                         [1, 0.8], [0.3, 0.2]])\n",
              "&gt;&gt;&gt; df\n",
              "                big     small\n",
              "llama   speed   45.0    30.0\n",
              "        weight  200.0   100.0\n",
              "        length  1.5     1.0\n",
              "cow     speed   30.0    20.0\n",
              "        weight  250.0   150.0\n",
              "        length  1.5     0.8\n",
              "falcon  speed   320.0   250.0\n",
              "        weight  1.0     0.8\n",
              "        length  0.3     0.2\n",
              "\n",
              "Drop a specific index combination from the MultiIndex\n",
              "DataFrame, i.e., drop the combination ``&#x27;falcon&#x27;`` and\n",
              "``&#x27;weight&#x27;``, which deletes only the corresponding row\n",
              "\n",
              "&gt;&gt;&gt; df.drop(index=(&#x27;falcon&#x27;, &#x27;weight&#x27;))\n",
              "                big     small\n",
              "llama   speed   45.0    30.0\n",
              "        weight  200.0   100.0\n",
              "        length  1.5     1.0\n",
              "cow     speed   30.0    20.0\n",
              "        weight  250.0   150.0\n",
              "        length  1.5     0.8\n",
              "falcon  speed   320.0   250.0\n",
              "        length  0.3     0.2\n",
              "\n",
              "&gt;&gt;&gt; df.drop(index=&#x27;cow&#x27;, columns=&#x27;small&#x27;)\n",
              "                big\n",
              "llama   speed   45.0\n",
              "        weight  200.0\n",
              "        length  1.5\n",
              "falcon  speed   320.0\n",
              "        weight  1.0\n",
              "        length  0.3\n",
              "\n",
              "&gt;&gt;&gt; df.drop(index=&#x27;length&#x27;, level=1)\n",
              "                big     small\n",
              "llama   speed   45.0    30.0\n",
              "        weight  200.0   100.0\n",
              "cow     speed   30.0    20.0\n",
              "        weight  250.0   150.0\n",
              "falcon  speed   320.0   250.0\n",
              "        weight  1.0     0.8</pre>\n",
              "      <script>\n",
              "      if (google.colab.kernel.accessAllowed && google.colab.files && google.colab.files.view) {\n",
              "        for (const element of document.querySelectorAll('.filepath')) {\n",
              "          element.style.display = 'block'\n",
              "          element.onclick = (event) => {\n",
              "            event.preventDefault();\n",
              "            event.stopPropagation();\n",
              "            google.colab.files.view(element.textContent, 5433);\n",
              "          };\n",
              "        }\n",
              "      }\n",
              "      for (const element of document.querySelectorAll('.function-repr-contents')) {\n",
              "        element.onclick = (event) => {\n",
              "          event.preventDefault();\n",
              "          event.stopPropagation();\n",
              "          element.classList.toggle('function-repr-contents-collapsed');\n",
              "        };\n",
              "      }\n",
              "      </script>\n",
              "      </div>"
            ]
          },
          "metadata": {},
          "execution_count": 28
        }
      ]
    },
    {
      "cell_type": "code",
      "source": [
        "do('India', x)"
      ],
      "metadata": {
        "colab": {
          "base_uri": "https://localhost:8080/"
        },
        "id": "kdUkqw_qvD1g",
        "outputId": "8bf48dcd-3f6d-430b-e208-6492474357f0"
      },
      "execution_count": 29,
      "outputs": [
        {
          "output_type": "stream",
          "name": "stdout",
          "text": [
            "India correlation: -0.12027284128795614\n",
            "Logistic Regression Accuracy: 0.9158767772511849\n",
            "Random Forest Accuracy: 0.9158767772511849\n"
          ]
        },
        {
          "output_type": "stream",
          "name": "stderr",
          "text": [
            "/usr/local/lib/python3.10/dist-packages/keras/src/layers/core/dense.py:87: UserWarning: Do not pass an `input_shape`/`input_dim` argument to a layer. When using Sequential models, prefer using an `Input(shape)` object as the first layer in the model instead.\n",
            "  super().__init__(activity_regularizer=activity_regularizer, **kwargs)\n"
          ]
        },
        {
          "output_type": "stream",
          "name": "stdout",
          "text": [
            "\u001b[1m27/27\u001b[0m \u001b[32m━━━━━━━━━━━━━━━━━━━━\u001b[0m\u001b[37m\u001b[0m \u001b[1m0s\u001b[0m 1ms/step - accuracy: 0.9094 - loss: 0.2942  \n",
            "Neural Network Accuracy: 0.9158768057823181\n"
          ]
        }
      ]
    },
    {
      "cell_type": "markdown",
      "source": [
        "# **U.S.**"
      ],
      "metadata": {
        "id": "V8-YZRMWj0Oz"
      }
    },
    {
      "cell_type": "code",
      "source": [
        "df_2 = pd.read_csv(r'/content/drive/My Drive/us2year.csv')\n",
        "df_10 = pd.read_csv(r'/content/drive/My Drive/us10year.csv')\n",
        "df_rec = pd.read_csv(r'/content/drive/My Drive/usrecession.csv')\n",
        "x=datacoll(df_2, df_10, df_rec)"
      ],
      "metadata": {
        "colab": {
          "base_uri": "https://localhost:8080/"
        },
        "id": "TcKUAR9hvHqz",
        "outputId": "a632ed87-c30d-442a-9459-50aa4f5a656d"
      },
      "execution_count": 30,
      "outputs": [
        {
          "output_type": "stream",
          "name": "stderr",
          "text": [
            "<ipython-input-25-39a49dfb1a4f>:3: UserWarning: Could not infer format, so each element will be parsed individually, falling back to `dateutil`. To ensure parsing is consistent and as-expected, please specify a format.\n",
            "  df_2y['Date'] = pd.to_datetime(df_2y['Date'])\n",
            "<ipython-input-25-39a49dfb1a4f>:7: UserWarning: Could not infer format, so each element will be parsed individually, falling back to `dateutil`. To ensure parsing is consistent and as-expected, please specify a format.\n",
            "  df_10y['Date'] = pd.to_datetime(df_10y['Date'])\n"
          ]
        }
      ]
    },
    {
      "cell_type": "code",
      "source": [
        "do('U.S.', x)"
      ],
      "metadata": {
        "colab": {
          "base_uri": "https://localhost:8080/"
        },
        "id": "q-2r8VbCj1SN",
        "outputId": "1976ef6e-845b-44c2-baa4-d1ae244a6a9f"
      },
      "execution_count": 31,
      "outputs": [
        {
          "output_type": "stream",
          "name": "stdout",
          "text": [
            "U.S. correlation: 0.4981569696856843\n",
            "Logistic Regression Accuracy: 0.9112654320987654\n",
            "Random Forest Accuracy: 0.9112654320987654\n"
          ]
        },
        {
          "output_type": "stream",
          "name": "stderr",
          "text": [
            "/usr/local/lib/python3.10/dist-packages/keras/src/layers/core/dense.py:87: UserWarning: Do not pass an `input_shape`/`input_dim` argument to a layer. When using Sequential models, prefer using an `Input(shape)` object as the first layer in the model instead.\n",
            "  super().__init__(activity_regularizer=activity_regularizer, **kwargs)\n"
          ]
        },
        {
          "output_type": "stream",
          "name": "stdout",
          "text": [
            "\u001b[1m41/41\u001b[0m \u001b[32m━━━━━━━━━━━━━━━━━━━━\u001b[0m\u001b[37m\u001b[0m \u001b[1m0s\u001b[0m 1ms/step - accuracy: 0.9065 - loss: 0.2280  \n",
            "Neural Network Accuracy: 0.9112654328346252\n"
          ]
        }
      ]
    },
    {
      "cell_type": "markdown",
      "source": [
        "# **U.K.**"
      ],
      "metadata": {
        "id": "75iQylgpj58c"
      }
    },
    {
      "cell_type": "code",
      "source": [
        "df_2 = pd.read_csv(r'/content/drive/My Drive/uk2year.csv')\n",
        "df_10 = pd.read_csv(r'/content/drive/My Drive/uk10year.csv')\n",
        "df_rec = pd.read_csv(r'/content/drive/My Drive/ukrecession.csv')\n",
        "x=datacoll(df_2, df_10, df_rec)"
      ],
      "metadata": {
        "colab": {
          "base_uri": "https://localhost:8080/"
        },
        "id": "PeYkSGXzvM3d",
        "outputId": "3db66b5f-0dd5-4631-c69c-23ec55719a23"
      },
      "execution_count": 32,
      "outputs": [
        {
          "output_type": "stream",
          "name": "stderr",
          "text": [
            "<ipython-input-25-39a49dfb1a4f>:3: UserWarning: Could not infer format, so each element will be parsed individually, falling back to `dateutil`. To ensure parsing is consistent and as-expected, please specify a format.\n",
            "  df_2y['Date'] = pd.to_datetime(df_2y['Date'])\n",
            "<ipython-input-25-39a49dfb1a4f>:7: UserWarning: Could not infer format, so each element will be parsed individually, falling back to `dateutil`. To ensure parsing is consistent and as-expected, please specify a format.\n",
            "  df_10y['Date'] = pd.to_datetime(df_10y['Date'])\n",
            "<ipython-input-25-39a49dfb1a4f>:13: UserWarning: Parsing dates in %d/%m/%Y format when dayfirst=False (the default) was specified. Pass `dayfirst=True` or specify a format to silence this warning.\n",
            "  df_rec['Date'] = pd.to_datetime(df_rec['Date'])\n"
          ]
        }
      ]
    },
    {
      "cell_type": "code",
      "source": [
        "do('U.K.', x)"
      ],
      "metadata": {
        "colab": {
          "base_uri": "https://localhost:8080/"
        },
        "id": "0B5cxsfDj9s2",
        "outputId": "ec131d2f-5550-45ab-9614-4e9355126e0d"
      },
      "execution_count": 33,
      "outputs": [
        {
          "output_type": "stream",
          "name": "stdout",
          "text": [
            "U.K. correlation: 0.3609121044283354\n",
            "Logistic Regression Accuracy: 0.8835672997522709\n",
            "Random Forest Accuracy: 0.8835672997522709\n"
          ]
        },
        {
          "output_type": "stream",
          "name": "stderr",
          "text": [
            "/usr/local/lib/python3.10/dist-packages/keras/src/layers/core/dense.py:87: UserWarning: Do not pass an `input_shape`/`input_dim` argument to a layer. When using Sequential models, prefer using an `Input(shape)` object as the first layer in the model instead.\n",
            "  super().__init__(activity_regularizer=activity_regularizer, **kwargs)\n"
          ]
        },
        {
          "output_type": "stream",
          "name": "stdout",
          "text": [
            "\u001b[1m38/38\u001b[0m \u001b[32m━━━━━━━━━━━━━━━━━━━━\u001b[0m\u001b[37m\u001b[0m \u001b[1m0s\u001b[0m 1ms/step - accuracy: 0.8985 - loss: 0.2907  \n",
            "Neural Network Accuracy: 0.8835672736167908\n"
          ]
        }
      ]
    },
    {
      "cell_type": "markdown",
      "source": [
        "# **Germany**"
      ],
      "metadata": {
        "id": "nOHKit0xj-T5"
      }
    },
    {
      "cell_type": "code",
      "source": [
        "df_2 = pd.read_csv(r'/content/drive/My Drive/ger2year.csv')\n",
        "df_10 = pd.read_csv(r'/content/drive/My Drive/ger10year.csv')\n",
        "df_rec = pd.read_csv(r'/content/drive/My Drive/germanyrecession.csv')\n",
        "x=datacoll(df_2, df_10, df_rec)"
      ],
      "metadata": {
        "colab": {
          "base_uri": "https://localhost:8080/"
        },
        "id": "sj9pkk88vOZ3",
        "outputId": "93e7487b-abe3-42de-d534-6aebc38784ae"
      },
      "execution_count": 34,
      "outputs": [
        {
          "output_type": "stream",
          "name": "stderr",
          "text": [
            "<ipython-input-25-39a49dfb1a4f>:3: UserWarning: Could not infer format, so each element will be parsed individually, falling back to `dateutil`. To ensure parsing is consistent and as-expected, please specify a format.\n",
            "  df_2y['Date'] = pd.to_datetime(df_2y['Date'])\n",
            "<ipython-input-25-39a49dfb1a4f>:7: UserWarning: Could not infer format, so each element will be parsed individually, falling back to `dateutil`. To ensure parsing is consistent and as-expected, please specify a format.\n",
            "  df_10y['Date'] = pd.to_datetime(df_10y['Date'])\n"
          ]
        }
      ]
    },
    {
      "cell_type": "code",
      "source": [
        "do('Germany', x)"
      ],
      "metadata": {
        "colab": {
          "base_uri": "https://localhost:8080/"
        },
        "id": "ExETFdjckAMs",
        "outputId": "989d6d1d-f0ed-45e9-e089-e099dfa1d7d4"
      },
      "execution_count": 35,
      "outputs": [
        {
          "output_type": "stream",
          "name": "stdout",
          "text": [
            "Germany correlation: -0.05469044452182939\n",
            "Logistic Regression Accuracy: 0.9948096885813149\n",
            "Random Forest Accuracy: 0.9948096885813149\n"
          ]
        },
        {
          "output_type": "stream",
          "name": "stderr",
          "text": [
            "/usr/local/lib/python3.10/dist-packages/keras/src/layers/core/dense.py:87: UserWarning: Do not pass an `input_shape`/`input_dim` argument to a layer. When using Sequential models, prefer using an `Input(shape)` object as the first layer in the model instead.\n",
            "  super().__init__(activity_regularizer=activity_regularizer, **kwargs)\n"
          ]
        },
        {
          "output_type": "stream",
          "name": "stdout",
          "text": [
            "\u001b[1m37/37\u001b[0m \u001b[32m━━━━━━━━━━━━━━━━━━━━\u001b[0m\u001b[37m\u001b[0m \u001b[1m0s\u001b[0m 2ms/step - accuracy: 0.9963 - loss: 0.0239\n",
            "Neural Network Accuracy: 0.9948096871376038\n"
          ]
        }
      ]
    },
    {
      "cell_type": "markdown",
      "source": [
        "# **France**"
      ],
      "metadata": {
        "id": "_k37c-E8kAuL"
      }
    },
    {
      "cell_type": "code",
      "source": [
        "df_2 = pd.read_csv(r'/content/drive/My Drive/fr2year.csv')\n",
        "df_10 = pd.read_csv(r'/content/drive/My Drive/fr10year.csv')\n",
        "df_rec = pd.read_csv(r'/content/drive/My Drive/francerecession.csv')\n",
        "x=datacoll(df_2, df_10, df_rec)"
      ],
      "metadata": {
        "colab": {
          "base_uri": "https://localhost:8080/"
        },
        "id": "mPbjpUZgvPx8",
        "outputId": "eda64209-8625-4f74-c867-6226f866670b"
      },
      "execution_count": 36,
      "outputs": [
        {
          "output_type": "stream",
          "name": "stderr",
          "text": [
            "<ipython-input-25-39a49dfb1a4f>:3: UserWarning: Could not infer format, so each element will be parsed individually, falling back to `dateutil`. To ensure parsing is consistent and as-expected, please specify a format.\n",
            "  df_2y['Date'] = pd.to_datetime(df_2y['Date'])\n",
            "<ipython-input-25-39a49dfb1a4f>:7: UserWarning: Could not infer format, so each element will be parsed individually, falling back to `dateutil`. To ensure parsing is consistent and as-expected, please specify a format.\n",
            "  df_10y['Date'] = pd.to_datetime(df_10y['Date'])\n"
          ]
        }
      ]
    },
    {
      "cell_type": "code",
      "source": [
        "do('France', x)"
      ],
      "metadata": {
        "colab": {
          "base_uri": "https://localhost:8080/"
        },
        "id": "nwishDO-kB0l",
        "outputId": "fcc0d357-c389-4d6b-d876-ea6032a87831"
      },
      "execution_count": 37,
      "outputs": [
        {
          "output_type": "stream",
          "name": "stdout",
          "text": [
            "France correlation: -0.021548645130397236\n",
            "Logistic Regression Accuracy: 0.999137187230371\n",
            "Random Forest Accuracy: 0.999137187230371\n"
          ]
        },
        {
          "output_type": "stream",
          "name": "stderr",
          "text": [
            "/usr/local/lib/python3.10/dist-packages/keras/src/layers/core/dense.py:87: UserWarning: Do not pass an `input_shape`/`input_dim` argument to a layer. When using Sequential models, prefer using an `Input(shape)` object as the first layer in the model instead.\n",
            "  super().__init__(activity_regularizer=activity_regularizer, **kwargs)\n"
          ]
        },
        {
          "output_type": "stream",
          "name": "stdout",
          "text": [
            "\u001b[1m37/37\u001b[0m \u001b[32m━━━━━━━━━━━━━━━━━━━━\u001b[0m\u001b[37m\u001b[0m \u001b[1m0s\u001b[0m 1ms/step - accuracy: 0.9993 - loss: 0.0056      \n",
            "Neural Network Accuracy: 0.9991371631622314\n"
          ]
        }
      ]
    },
    {
      "cell_type": "code",
      "source": [],
      "metadata": {
        "id": "jjRnTBogyJ3Q"
      },
      "execution_count": null,
      "outputs": []
    }
  ]
}